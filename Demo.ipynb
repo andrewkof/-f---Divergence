{
  "nbformat": 4,
  "nbformat_minor": 0,
  "metadata": {
    "colab": {
      "name": "Demo.ipynb",
      "provenance": [],
      "collapsed_sections": []
    },
    "kernelspec": {
      "name": "python3",
      "display_name": "Python 3"
    },
    "language_info": {
      "name": "python"
    }
  },
  "cells": [
    {
      "cell_type": "markdown",
      "source": [
        "#**Mass Redistribution/Transfer Demo**\n",
        "- Dirac Masses\n",
        "  - [Case 1](https://colab.research.google.com/drive/1Ay3JN8IiiebU-Dymlr1-w1smpxEdOfah)\n",
        "  - [Case 2](https://colab.research.google.com/drive/1fgp0f0e65mU5IfS9pVKujkHWArr4FKLl)\n",
        "- [Uniform case](https://colab.research.google.com/drive/1QcCUJkYkZTBTdDBXRajcr5xPLlwF2a37#scrollTo=5c82cf33)\n",
        "- [Gaussians case](https://colab.research.google.com/drive/1KNbbt1moQwbPYpaF_mcPp8GpaaMPABko#scrollTo=dwBOTK9x76Y2)"
      ],
      "metadata": {
        "id": "gOYL20Skxvz5"
      }
    }
  ]
}